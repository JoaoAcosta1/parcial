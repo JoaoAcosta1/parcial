{
 "cells": [
  {
   "cell_type": "code",
   "execution_count": null,
   "metadata": {},
   "outputs": [],
   "source": [
    "import pandas as pd\n",
    "import matplotlib.pyplot as plt\n",
    "import seaborn as sns\n",
    "from sklearn.linear_model import LinearRegression\n",
    "url= \"https://raw.githubusercontent.com/JoaoAcosta1/parcial/main/0day%20_In%20the%20Wild_%20-%20All.csv\"\n",
    "\n",
    "try:\n",
    "    df=pd.read_csv(url)\n",
    "    print(\"Primeras filas del dataset\")\n",
    "    print(df.head())\n",
    "except Exception as a:\n",
    "    print(\"Error al leer el dataset:\",a)"
   ]
  },
  {
   "cell_type": "code",
   "execution_count": null,
   "metadata": {},
   "outputs": [],
   "source": [
    "# Convertir 'Date Discovered' a datetime y extraer el año\n",
    "df['Date Discovered'] = pd.to_datetime(df['Date Discovered'], errors='coerce')\n",
    "df['Year_Discovered'] = df['Date Discovered'].dt.year\n",
    "\n",
    "# Agrupar y contar CVEs por año descubierto\n",
    "year_exploit_avg = df.groupby('Year_Discovered')['CVE'].count().reset_index()\n",
    "year_exploit_avg.columns = ['años', 'Cantidad_de_CVE']\n"
   ]
  },
  {
   "cell_type": "code",
   "execution_count": null,
   "metadata": {},
   "outputs": [],
   "source": [
    "plt.figure(figsize=(12, 6))\n",
    "sns.barplot(x='años', y='Cantidad_de_CVE', hue='años', data=year_exploit_avg, palette='viridis', dodge=False, legend=False)\n",
    "plt.title('Descubrimiento de CVEs por años')\n",
    "plt.xlabel('Años')\n",
    "plt.ylabel('Cantidad de CVE')\n",
    "plt.xticks(rotation=45)\n",
    "plt.show()"
   ]
  },
  {
   "cell_type": "code",
   "execution_count": null,
   "metadata": {},
   "outputs": [],
   "source": [
    "# Preparar los datos para la regresión lineal\n",
    "X = year_exploit_avg['años'].values.reshape(-1, 1)\n",
    "y = year_exploit_avg['Cantidad_de_CVE']\n",
    "\n",
    "# Crear y entrenar el modelo de regresión lineal\n",
    "model = LinearRegression()\n",
    "model.fit(X, y)\n",
    "\n",
    "# Hacer predicciones\n",
    "y_pred = model.predict(X)\n"
   ]
  },
  {
   "cell_type": "code",
   "execution_count": null,
   "metadata": {},
   "outputs": [],
   "source": [
    "# Visualizar la regresión lineal\n",
    "plt.figure(figsize=(12, 6))\n",
    "plt.scatter(X, y, color='red', label='Actualidad')\n",
    "plt.plot(X, y_pred, color='skyblue', linewidth=2, label='Predicciones')\n",
    "plt.title('Regresión LSineal: Años vs  Cantidad de CVE ')\n",
    "plt.xlabel('Años')\n",
    "plt.ylabel('Cantidad de CVE')\n",
    "plt.xticks(rotation=45)\n",
    "plt.legend()\n",
    "plt.show()\n"
   ]
  }
 ],
 "metadata": {
  "kernelspec": {
   "display_name": "Python 3",
   "language": "python",
   "name": "python3"
  },
  "language_info": {
   "codemirror_mode": {
    "name": "ipython",
    "version": 3
   },
   "file_extension": ".py",
   "mimetype": "text/x-python",
   "name": "python",
   "nbconvert_exporter": "python",
   "pygments_lexer": "ipython3",
   "version": "3.12.0"
  }
 },
 "nbformat": 4,
 "nbformat_minor": 2
}
